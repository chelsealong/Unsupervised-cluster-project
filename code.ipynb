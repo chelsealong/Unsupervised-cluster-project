{
 "cells": [
  {
   "cell_type": "code",
   "execution_count": 1,
   "metadata": {},
   "outputs": [],
   "source": [
    "### import libraries\n",
    "import pandas as pd\n",
    "import matplotlib.pyplot as plt\n",
    "from sklearn.decomposition import PCA\n",
    "from sklearn.preprocessing import StandardScaler"
   ]
  },
  {
   "cell_type": "code",
   "execution_count": 46,
   "metadata": {},
   "outputs": [],
   "source": [
    "df = pd.read_csv('dataset.csv')"
   ]
  },
  {
   "cell_type": "code",
   "execution_count": 3,
   "metadata": {},
   "outputs": [
    {
     "data": {
      "text/html": [
       "<div>\n",
       "<style scoped>\n",
       "    .dataframe tbody tr th:only-of-type {\n",
       "        vertical-align: middle;\n",
       "    }\n",
       "\n",
       "    .dataframe tbody tr th {\n",
       "        vertical-align: top;\n",
       "    }\n",
       "\n",
       "    .dataframe thead th {\n",
       "        text-align: right;\n",
       "    }\n",
       "</style>\n",
       "<table border=\"1\" class=\"dataframe\">\n",
       "  <thead>\n",
       "    <tr style=\"text-align: right;\">\n",
       "      <th></th>\n",
       "      <th>x</th>\n",
       "      <th>y</th>\n",
       "      <th>z</th>\n",
       "    </tr>\n",
       "  </thead>\n",
       "  <tbody>\n",
       "    <tr>\n",
       "      <th>0</th>\n",
       "      <td>1.072931</td>\n",
       "      <td>-1.088346</td>\n",
       "      <td>-0.901331</td>\n",
       "    </tr>\n",
       "    <tr>\n",
       "      <th>1</th>\n",
       "      <td>0.940791</td>\n",
       "      <td>1.023454</td>\n",
       "      <td>-1.022105</td>\n",
       "    </tr>\n",
       "    <tr>\n",
       "      <th>2</th>\n",
       "      <td>1.124995</td>\n",
       "      <td>1.107333</td>\n",
       "      <td>-0.987351</td>\n",
       "    </tr>\n",
       "    <tr>\n",
       "      <th>3</th>\n",
       "      <td>-1.157148</td>\n",
       "      <td>-0.947454</td>\n",
       "      <td>-1.021704</td>\n",
       "    </tr>\n",
       "    <tr>\n",
       "      <th>4</th>\n",
       "      <td>0.996126</td>\n",
       "      <td>1.080811</td>\n",
       "      <td>1.200051</td>\n",
       "    </tr>\n",
       "  </tbody>\n",
       "</table>\n",
       "</div>"
      ],
      "text/plain": [
       "          x         y         z\n",
       "0  1.072931 -1.088346 -0.901331\n",
       "1  0.940791  1.023454 -1.022105\n",
       "2  1.124995  1.107333 -0.987351\n",
       "3 -1.157148 -0.947454 -1.021704\n",
       "4  0.996126  1.080811  1.200051"
      ]
     },
     "execution_count": 3,
     "metadata": {},
     "output_type": "execute_result"
    }
   ],
   "source": [
    "### EDA\n",
    "df.head()"
   ]
  },
  {
   "cell_type": "code",
   "execution_count": 83,
   "metadata": {},
   "outputs": [],
   "source": [
    "### Projecting the data points onto a 2 dimension space to better visualize it\n",
    "# pca = PCA(n_components=2)\n",
    "# principalComponents = pca.fit_transform(df)\n",
    "# plt.scatter(principalComponents[:,0], principalComponents[:,1])\n",
    "# plt.figure(num=1, figsize=(6, 3.5), dpi=150, facecolor='w', edgecolor='k')\n",
    "# plt.show()"
   ]
  },
  {
   "cell_type": "code",
   "execution_count": 72,
   "metadata": {},
   "outputs": [],
   "source": [
    "pca_single = PCA(n_components=1)\n",
    "principalComponents1 = pca_single.fit_transform(df)"
   ]
  },
  {
   "cell_type": "code",
   "execution_count": 73,
   "metadata": {},
   "outputs": [
    {
     "name": "stdout",
     "output_type": "stream",
     "text": [
      "Outlier list: []\n"
     ]
    }
   ],
   "source": [
    "import numpy as np\n",
    "import matplotlib.pyplot as plt\n",
    "def find_anomalies(data):\n",
    "    anomalies = []\n",
    "    \n",
    "    data_std = np.std(data)\n",
    "    data_mean = np.mean(data)\n",
    "    anomaly_cut_off = data_std*3\n",
    "    \n",
    "    lower_limit  = data_mean - anomaly_cut_off \n",
    "    upper_limit = data_mean + anomaly_cut_off\n",
    "    \n",
    "    for outlier in data:\n",
    "        if outlier > upper_limit or outlier < lower_limit:\n",
    "            anomalies.append(outlier)\n",
    "    return anomalies\n",
    "\n",
    "print('Outlier list:', find_anomalies(principalComponents1))"
   ]
  },
  {
   "cell_type": "markdown",
   "metadata": {},
   "source": [
    "no outliers"
   ]
  },
  {
   "cell_type": "code",
   "execution_count": 78,
   "metadata": {},
   "outputs": [],
   "source": [
    "### data normalization\n",
    "x = StandardScaler().fit_transform(df)"
   ]
  },
  {
   "cell_type": "code",
   "execution_count": 79,
   "metadata": {},
   "outputs": [
    {
     "data": {
      "image/png": "[encoded data removed]",
      "text/plain": [
       "<Figure size 432x288 with 1 Axes>"
      ]
     },
     "metadata": {
      "needs_background": "light"
     },
     "output_type": "display_data"
    }
   ],
   "source": [
    "### Using K-means to cluster the data\n",
    "### Using Elbow Method to choose the best k\n",
    "from sklearn.cluster import KMeans\n",
    "wcss = []\n",
    "for i in range(1, 21):\n",
    "    kmeans = KMeans(n_clusters = i, init = 'k-means++', random_state = 42)\n",
    "    kmeans.fit(x)\n",
    "    wcss.append(kmeans.inertia_)\n",
    "plt.plot(range(1, 21), wcss)\n",
    "plt.title('The Elbow Method')\n",
    "plt.xlabel('Number of clusters')\n",
    "plt.ylabel('WCSS')\n",
    "plt.show()"
   ]
  },
  {
   "cell_type": "code",
   "execution_count": 80,
   "metadata": {},
   "outputs": [],
   "source": [
    "# kmeansplus = KMeans(n_clusters=4, init = 'k-means++', random_state = 42)\n",
    "# y_kmeansplus = kmeansplus.fit_predict(x)\n",
    "# #plt.figure(num=1, figsize=(6, 3.5), dpi=150, facecolor='w', edgecolor='k')\n",
    "# plt.scatter(principalComponents[y_kmeansplus == 0, 0], principalComponents[y_kmeansplus == 0, 1], s = 10, c = 'red', alpha=0.35)\n",
    "# plt.scatter(principalComponents[y_kmeansplus == 1, 0], principalComponents[y_kmeansplus == 1, 1], s = 10, c = 'green', alpha=0.35)\n",
    "# plt.scatter(principalComponents[y_kmeansplus == 2, 0], principalComponents[y_kmeansplus == 2, 1], s = 10, c = 'blue', alpha=0.35)\n",
    "# plt.scatter(principalComponents[y_kmeansplus == 3, 0], principalComponents[y_kmeansplus == 3, 1], s = 10, c = 'orange', alpha=0.35)\n",
    "# plt.title('K-Means ++')\n",
    "# plt.xlabel('PC0')\n",
    "# plt.ylabel('PC1')\n",
    "# plt.show()"
   ]
  },
  {
   "cell_type": "code",
   "execution_count": 81,
   "metadata": {},
   "outputs": [],
   "source": [
    "# kmeansplus = KMeans(n_clusters=4, init = 'k-means++', random_state = 42)\n",
    "# y_kmeansplus = kmeansplus.fit_predict(x)\n",
    "# plt.figure(num=1, figsize=(6, 3.5), dpi=150, facecolor='w', edgecolor='k')\n",
    "# plt.scatter(principalComponents2[y_kmeansplus == 0, 0], principalComponents2[y_kmeansplus == 0, 1], s = 10, c = 'red', alpha=0.35)\n",
    "# plt.scatter(principalComponents2[y_kmeansplus == 1, 0], principalComponents2[y_kmeansplus == 1, 1], s = 10, c = 'green', alpha=0.35)\n",
    "# plt.scatter(principalComponents2[y_kmeansplus == 2, 0], principalComponents2[y_kmeansplus == 2, 1], s = 10, c = 'blue', alpha=0.35)\n",
    "# plt.scatter(principalComponents2[y_kmeansplus == 3, 0], principalComponents2[y_kmeansplus == 3, 1], s = 10, c = 'orange', alpha=0.35)\n",
    "# plt.title('K-Means ++')\n",
    "# plt.xlabel('PC0')\n",
    "# plt.ylabel('PC1')\n",
    "# plt.show()"
   ]
  },
  {
   "cell_type": "code",
   "execution_count": 85,
   "metadata": {},
   "outputs": [],
   "source": [
    "### Project the data onto a 2d space to better visualize the clusters\n",
    "principalComponents = principalComponents = pca.fit_transform(x)"
   ]
  },
  {
   "cell_type": "code",
   "execution_count": 88,
   "metadata": {},
   "outputs": [
    {
     "data": {
      "image/png": "[encoded data removed]",
      "text/plain": [
       "<Figure size 432x288 with 1 Axes>"
      ]
     },
     "metadata": {
      "needs_background": "light"
     },
     "output_type": "display_data"
    }
   ],
   "source": [
    "kmeansplus = KMeans(n_clusters=8, init = 'k-means++', random_state = 42)\n",
    "y_kmeansplus = kmeansplus.fit_predict(x) + 1\n",
    "#plt.figure(num=1, figsize=(6, 3.5), dpi=150, facecolor='w', edgecolor='k')\n",
    "plt.scatter(principalComponents[y_kmeansplus == 1, 0], principalComponents[y_kmeansplus == 1, 1], s = 10, c = 'red', alpha=0.35)\n",
    "plt.scatter(principalComponents[y_kmeansplus == 2, 0], principalComponents[y_kmeansplus == 2, 1], s = 10, c = 'green', alpha=0.35)\n",
    "plt.scatter(principalComponents[y_kmeansplus == 3, 0], principalComponents[y_kmeansplus == 3, 1], s = 10, c = 'blue', alpha=0.35)\n",
    "plt.scatter(principalComponents[y_kmeansplus == 4, 0], principalComponents[y_kmeansplus == 4, 1], s = 10, c = 'orange', alpha=0.35)\n",
    "plt.scatter(principalComponents[y_kmeansplus == 5, 0], principalComponents[y_kmeansplus == 5, 1], s = 10, c = 'yellow', alpha=0.35)\n",
    "plt.scatter(principalComponents[y_kmeansplus == 6, 0], principalComponents[y_kmeansplus == 6, 1], s = 10, c = 'black', alpha=0.35)\n",
    "plt.scatter(principalComponents[y_kmeansplus == 7, 0], principalComponents[y_kmeansplus == 7, 1], s = 10, c = 'purple', alpha=0.35)\n",
    "plt.scatter(principalComponents[y_kmeansplus == 8, 0], principalComponents[y_kmeansplus == 8, 1], s = 10, c = 'pink', alpha=0.35)\n",
    "plt.title('K-Means ++')\n",
    "plt.xlabel('PC0')\n",
    "plt.ylabel('PC1')\n",
    "plt.show()"
   ]
  },
  {
   "cell_type": "code",
   "execution_count": 90,
   "metadata": {},
   "outputs": [
    {
     "name": "stdout",
     "output_type": "stream",
     "text": [
      "Optimal number of cluster: 8\n",
      "Calinski Harabaz Score: 113297.71760904058\n"
     ]
    }
   ],
   "source": [
    "## performance test\n",
    "## Using Calinski Harabaz Score to evaluzte the cluster performance\n",
    "from sklearn import metrics\n",
    "from sklearn.metrics import pairwise_distances\n",
    "res, max_score = [], -float('inf')\n",
    "for i in range(2, 21):\n",
    "    test = KMeans(n_clusters=i, init = 'k-means++', random_state = 42)\n",
    "    labels = test.fit_predict(x)\n",
    "    score = metrics.calinski_harabaz_score(x, labels)\n",
    "    if score > max_score:\n",
    "        max_score = score\n",
    "        opt_cluster = i\n",
    "    res.append(score)\n",
    "print('Optimal number of cluster: '+str(opt_cluster)+'\\n'+'Calinski Harabaz Score: '+str(max_score))"
   ]
  },
  {
   "cell_type": "code",
   "execution_count": 91,
   "metadata": {},
   "outputs": [
    {
     "data": {
      "image/png": "[encoded data removed]",
      "text/plain": [
       "<Figure size 432x288 with 1 Axes>"
      ]
     },
     "metadata": {
      "needs_background": "light"
     },
     "output_type": "display_data"
    }
   ],
   "source": [
    "### Calinski Harabaz Score visualization by different number of clusters\n",
    "plt.plot(range(2, 21), res)\n",
    "plt.show()"
   ]
  },
  {
   "cell_type": "code",
   "execution_count": 93,
   "metadata": {},
   "outputs": [],
   "source": [
    "df['cluster#'] = y_kmeansplus"
   ]
  },
  {
   "cell_type": "code",
   "execution_count": 94,
   "metadata": {},
   "outputs": [
    {
     "data": {
      "text/html": [
       "<div>\n",
       "<style scoped>\n",
       "    .dataframe tbody tr th:only-of-type {\n",
       "        vertical-align: middle;\n",
       "    }\n",
       "\n",
       "    .dataframe tbody tr th {\n",
       "        vertical-align: top;\n",
       "    }\n",
       "\n",
       "    .dataframe thead th {\n",
       "        text-align: right;\n",
       "    }\n",
       "</style>\n",
       "<table border=\"1\" class=\"dataframe\">\n",
       "  <thead>\n",
       "    <tr style=\"text-align: right;\">\n",
       "      <th></th>\n",
       "      <th>x</th>\n",
       "      <th>y</th>\n",
       "      <th>z</th>\n",
       "      <th>cluster#</th>\n",
       "    </tr>\n",
       "  </thead>\n",
       "  <tbody>\n",
       "    <tr>\n",
       "      <th>0</th>\n",
       "      <td>1.072931</td>\n",
       "      <td>-1.088346</td>\n",
       "      <td>-0.901331</td>\n",
       "      <td>2</td>\n",
       "    </tr>\n",
       "    <tr>\n",
       "      <th>1</th>\n",
       "      <td>0.940791</td>\n",
       "      <td>1.023454</td>\n",
       "      <td>-1.022105</td>\n",
       "      <td>7</td>\n",
       "    </tr>\n",
       "    <tr>\n",
       "      <th>2</th>\n",
       "      <td>1.124995</td>\n",
       "      <td>1.107333</td>\n",
       "      <td>-0.987351</td>\n",
       "      <td>7</td>\n",
       "    </tr>\n",
       "    <tr>\n",
       "      <th>3</th>\n",
       "      <td>-1.157148</td>\n",
       "      <td>-0.947454</td>\n",
       "      <td>-1.021704</td>\n",
       "      <td>6</td>\n",
       "    </tr>\n",
       "    <tr>\n",
       "      <th>4</th>\n",
       "      <td>0.996126</td>\n",
       "      <td>1.080811</td>\n",
       "      <td>1.200051</td>\n",
       "      <td>5</td>\n",
       "    </tr>\n",
       "  </tbody>\n",
       "</table>\n",
       "</div>"
      ],
      "text/plain": [
       "          x         y         z  cluster#\n",
       "0  1.072931 -1.088346 -0.901331         2\n",
       "1  0.940791  1.023454 -1.022105         7\n",
       "2  1.124995  1.107333 -0.987351         7\n",
       "3 -1.157148 -0.947454 -1.021704         6\n",
       "4  0.996126  1.080811  1.200051         5"
      ]
     },
     "execution_count": 94,
     "metadata": {},
     "output_type": "execute_result"
    }
   ],
   "source": [
    "df.head()"
   ]
  },
  {
   "cell_type": "code",
   "execution_count": null,
   "metadata": {},
   "outputs": [],
   "source": []
  }
 ],
 "metadata": {
  "kernelspec": {
   "display_name": "Python 3",
   "language": "python",
   "name": "python3"
  },
  "language_info": {
   "codemirror_mode": {
    "name": "ipython",
    "version": 3
   },
   "file_extension": ".py",
   "mimetype": "text/x-python",
   "name": "python",
   "nbconvert_exporter": "python",
   "pygments_lexer": "ipython3",
   "version": "3.6.7"
  }
 },
 "nbformat": 4,
 "nbformat_minor": 2
}
